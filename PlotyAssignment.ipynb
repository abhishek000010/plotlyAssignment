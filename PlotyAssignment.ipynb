{
 "cells": [
  {
   "cell_type": "code",
   "execution_count": null,
   "id": "84c372ab-5e2d-431a-9d51-c7c1383a4faa",
   "metadata": {},
   "outputs": [],
   "source": [
    "Q1 -> Load the \"titanic\" dataset using the load_dataset function of seaborn. Use Plotly express to plot a\n",
    "scatter plot for age and fare columns in the titanic dataset.\n",
    "\n",
    "Ans -> \n",
    "import plotly.graph_objects as go\n",
    "import seaborn as sns\n",
    "\n",
    "titanic = sns.load_dataset(\"titanic\")\n",
    "\n",
    "fig = go.Figure()\n",
    "fig.add_trace(go.Scatter(x = titanic.age , y = titanic.fare , mode = 'markers'))\n",
    "fig.show()\n"
   ]
  },
  {
   "cell_type": "code",
   "execution_count": null,
   "id": "c1216fba-90b1-4576-b435-0fc12e5bc47a",
   "metadata": {},
   "outputs": [],
   "source": [
    "Q2 -> Using the tips dataset in the Plotly library, plot a box plot using Plotly express.\n",
    "\n",
    "Ans -> \n",
    "import plotly.express as px\n",
    "import seaborn as sns\n",
    "\n",
    "tips = sns.load_dataset(\"tips\")\n",
    "\n",
    "fig = px.box(tips , x = tips.day , y = tips.total_bill , title = \"Total bill cy days\")\n",
    "fig.show()"
   ]
  },
  {
   "cell_type": "code",
   "execution_count": null,
   "id": "c6b779be-191f-4c24-bbb9-658acece7c08",
   "metadata": {},
   "outputs": [],
   "source": [
    "Q3 -> Using the tips dataset in the Plotly library, Plot a histogram for x= \"sex\" and y=\"total_bill\" column in\n",
    "the tips dataset. Also, use the \"smoker\" column with the pattern_shape parameter and the \"day\"\n",
    "column with the color parameter.\n",
    "\n",
    "Ans -> \n",
    "\n",
    "import plotly.express as px\n",
    "\n",
    "tips = sns.load_dataset(\"tips\")\n",
    "\n",
    "fig = px.histogram(x = tips.sex , y = tips.total_bill , color = tips.day , pattern_shape = tips.smoker , title = \"total bill according to sex , by days and smoker status\")\n",
    "fig.show()"
   ]
  },
  {
   "cell_type": "code",
   "execution_count": null,
   "id": "3336e7f3-9407-4682-82cc-544bc69550fa",
   "metadata": {},
   "outputs": [],
   "source": [
    "Q4 -> Using the iris dataset in the Plotly library, Plot a scatter matrix plot, using the \"species\" column for\n",
    "the color parameter.\n",
    "\n",
    "Ans -> \n",
    "import plotly.express as px\n",
    "import seaborn as sns\n",
    "iris = sns.load_dataset(\"iris\")\n",
    "\n",
    "fig = px.scatter_matrix(iris , dimensions = ['sepal_length' , 'sepal_width' , 'petal_length' , 'petal_width']\n",
    "                        ,color = 'species' , title = 'scatter matrix plot of iris dataset')\n",
    "fig.show()\n"
   ]
  },
  {
   "cell_type": "code",
   "execution_count": null,
   "id": "b80e2ff1-c894-49e1-833a-f09b7a6a221c",
   "metadata": {},
   "outputs": [],
   "source": [
    "Q5 -> What is Distplot? Using Plotly express, plot a distplot.\n",
    "\n",
    "Ans -> import plotly.express as px\n",
    "import seaborn as sns\n",
    "\n",
    "tips = sns.load_dataset(\"tips\")\n",
    "fig = px.histogram(tips , x = 'total_bill' , nbins = 30 , marginal = 'box' , title = \"Distribution plot of total Bill\")\n",
    "fig.show()"
   ]
  }
 ],
 "metadata": {
  "kernelspec": {
   "display_name": "Python 3 (ipykernel)",
   "language": "python",
   "name": "python3"
  },
  "language_info": {
   "codemirror_mode": {
    "name": "ipython",
    "version": 3
   },
   "file_extension": ".py",
   "mimetype": "text/x-python",
   "name": "python",
   "nbconvert_exporter": "python",
   "pygments_lexer": "ipython3",
   "version": "3.10.8"
  }
 },
 "nbformat": 4,
 "nbformat_minor": 5
}
